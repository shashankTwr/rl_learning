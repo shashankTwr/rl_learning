{
 "cells": [
  {
   "cell_type": "code",
   "execution_count": 1,
   "id": "martial-mapping",
   "metadata": {},
   "outputs": [],
   "source": [
    "import gym"
   ]
  },
  {
   "cell_type": "code",
   "execution_count": 2,
   "id": "great-spider",
   "metadata": {},
   "outputs": [],
   "source": [
    "# initialize environment\n",
    "e = gym.make('CartPole-v0')"
   ]
  },
  {
   "cell_type": "code",
   "execution_count": 6,
   "id": "express-connecticut",
   "metadata": {},
   "outputs": [
    {
     "data": {
      "text/plain": [
       "array([-0.03601587, -0.0203743 ,  0.01894492, -0.01210141])"
      ]
     },
     "execution_count": 6,
     "metadata": {},
     "output_type": "execute_result"
    }
   ],
   "source": [
    "# resetting enviornment and \n",
    "# getting the first observation(need to reset environment when it is newly created)\n",
    "obs = e.reset()\n",
    "obs"
   ]
  },
  {
   "cell_type": "code",
   "execution_count": 9,
   "id": "historic-circular",
   "metadata": {},
   "outputs": [
    {
     "data": {
      "text/plain": [
       "['__class__',\n",
       " '__delattr__',\n",
       " '__dict__',\n",
       " '__dir__',\n",
       " '__doc__',\n",
       " '__enter__',\n",
       " '__eq__',\n",
       " '__exit__',\n",
       " '__format__',\n",
       " '__ge__',\n",
       " '__getattr__',\n",
       " '__getattribute__',\n",
       " '__gt__',\n",
       " '__hash__',\n",
       " '__init__',\n",
       " '__init_subclass__',\n",
       " '__le__',\n",
       " '__lt__',\n",
       " '__module__',\n",
       " '__ne__',\n",
       " '__new__',\n",
       " '__reduce__',\n",
       " '__reduce_ex__',\n",
       " '__repr__',\n",
       " '__setattr__',\n",
       " '__sizeof__',\n",
       " '__str__',\n",
       " '__subclasshook__',\n",
       " '__weakref__',\n",
       " '_elapsed_steps',\n",
       " '_max_episode_steps',\n",
       " 'action_space',\n",
       " 'class_name',\n",
       " 'close',\n",
       " 'compute_reward',\n",
       " 'env',\n",
       " 'metadata',\n",
       " 'observation_space',\n",
       " 'render',\n",
       " 'reset',\n",
       " 'reward_range',\n",
       " 'seed',\n",
       " 'spec',\n",
       " 'step',\n",
       " 'unwrapped']"
      ]
     },
     "execution_count": 9,
     "metadata": {},
     "output_type": "execute_result"
    }
   ],
   "source": [
    "# looking at the functions of environment class\n",
    "dir(e)\n"
   ]
  },
  {
   "cell_type": "code",
   "execution_count": 16,
   "id": "wanted-salvation",
   "metadata": {},
   "outputs": [
    {
     "data": {
      "text/plain": [
       "(Discrete(2),\n",
       " Box(-3.4028234663852886e+38, 3.4028234663852886e+38, (4,), float32))"
      ]
     },
     "execution_count": 16,
     "metadata": {},
     "output_type": "execute_result"
    }
   ],
   "source": [
    "# printing the action space and observation space of the environments\n",
    "e.action_space, e.observation_space"
   ]
  },
  {
   "cell_type": "code",
   "execution_count": 17,
   "id": "statewide-pleasure",
   "metadata": {},
   "outputs": [],
   "source": [
    "# space class can be of three type\n",
    "# 1. Discrete class represents a mutually exclusive set of items, numbered from 0 to n-1\n",
    "#  for ex: Discrete(n = a ), can be used for action space with a actions \n",
    "# 2. Box class represents an n dimensional tensor of rational numbers with intervals\n",
    "#  for ex: Box(low, high, shape, dtype) represents the low high range of the elements in the shape\n",
    "#  like an image can be represented as Box(0,255, shape= (1024,768),dtype=np.uint8) \n",
    "# 3. Tuple class represents a class space of hybrid containing both box and discrete\n",
    "#  to make an action space for car \n",
    "# Tuple(spaces=(Box(0,1,shape=(3,)dtype= np.float32), Discrete(n=3), Discrete(n=2)))\n",
    "# Box for how much the pedal is pressed for  clutch, break, accelerator, \n",
    "# Two discrete box one for turn signal(left right, off) and other for horn(pressed or not)"
   ]
  },
  {
   "cell_type": "code",
   "execution_count": 21,
   "id": "molecular-superior",
   "metadata": {},
   "outputs": [
    {
     "data": {
      "text/plain": [
       "(array([-0.03642335, -0.21576275,  0.0187029 ,  0.28649815]), 1.0, False, {})"
      ]
     },
     "execution_count": 21,
     "metadata": {},
     "output_type": "execute_result"
    }
   ],
   "source": [
    "#  make the environment change by using the step function and providing it with an action\n",
    "#  we get a new observation the current state of the environment\n",
    "# use %pdef e.step to get definition\n",
    "e.step(0)"
   ]
  },
  {
   "cell_type": "code",
   "execution_count": 26,
   "id": "resistant-projector",
   "metadata": {},
   "outputs": [
    {
     "data": {
      "text/plain": [
       "0"
      ]
     },
     "execution_count": 26,
     "metadata": {},
     "output_type": "execute_result"
    }
   ],
   "source": [
    "#  use action space sample and observation space sample method to understand either when unsure\n",
    "# \n",
    "e.action_space.sample()"
   ]
  },
  {
   "cell_type": "code",
   "execution_count": 1,
   "id": "double-bench",
   "metadata": {
    "scrolled": true
   },
   "outputs": [
    {
     "name": "stdout",
     "output_type": "stream",
     "text": [
      "Episode done in 14 steps, total reward 14.00\n"
     ]
    }
   ],
   "source": [
    "# %run  ../scripts/cartpolev1.py"
   ]
  }
 ],
 "metadata": {
  "kernelspec": {
   "display_name": "Python 3",
   "language": "python",
   "name": "python3"
  },
  "language_info": {
   "codemirror_mode": {
    "name": "ipython",
    "version": 3
   },
   "file_extension": ".py",
   "mimetype": "text/x-python",
   "name": "python",
   "nbconvert_exporter": "python",
   "pygments_lexer": "ipython3",
   "version": "3.8.10"
  }
 },
 "nbformat": 4,
 "nbformat_minor": 5
}
